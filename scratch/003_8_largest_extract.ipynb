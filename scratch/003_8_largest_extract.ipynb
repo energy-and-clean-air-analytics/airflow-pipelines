{
 "cells": [
  {
   "cell_type": "code",
   "execution_count": 36,
   "id": "designed-indie",
   "metadata": {},
   "outputs": [],
   "source": [
    "import sys\n",
    "\n",
    "sys.path.insert(0,'../src/')\n",
    "\n",
    "import pandas_gbq\n",
    "import pendulum\n",
    "import pickle\n",
    "\n",
    "from weather_data_utils import *"
   ]
  },
  {
   "cell_type": "code",
   "execution_count": 37,
   "id": "tough-firewall",
   "metadata": {},
   "outputs": [
    {
     "name": "stderr",
     "output_type": "stream",
     "text": [
      "/Users/joshgree/Library/Caches/pypoetry/virtualenvs/airflow-pipelines-ELMc40Ku-py3.6/lib/python3.6/site-packages/google/cloud/bigquery/table.py:1772: UserWarning: A progress bar was requested, but there was an error loading the tqdm library. Please install tqdm to use the progress bar functionality.\n",
      "  create_bqstorage_client=create_bqstorage_client,\n"
     ]
    }
   ],
   "source": [
    "project_id = 'emissions-monitoring'\n",
    "\n",
    "sql = '''\n",
    "SELECT\n",
    "  gems_plant_id,\n",
    "  latitude,\n",
    "  longitude,\n",
    "  plant_capacity_mw_fuel_coal\n",
    "FROM\n",
    "  plant_metadata.plant_attributes\n",
    "WHERE\n",
    "  plant_capacity_mw_fuel_coal >= 1000\n",
    "  AND plant_capacity_mw_cool_ndt / plant_capacity_mw_total >= 0.7\n",
    "  AND latitude IS NOT NULL\n",
    "  AND longitude IS NOT NULL\n",
    "  AND country='CHINA'\n",
    "order by plant_capacity_mw_fuel_coal desc\n",
    "limit 10\n",
    "'''\n",
    "\n",
    "plants_df = pandas_gbq.read_gbq(sql, project_id=project_id)"
   ]
  },
  {
   "cell_type": "code",
   "execution_count": 38,
   "id": "chemical-french",
   "metadata": {},
   "outputs": [
    {
     "data": {
      "text/html": [
       "<div>\n",
       "<style scoped>\n",
       "    .dataframe tbody tr th:only-of-type {\n",
       "        vertical-align: middle;\n",
       "    }\n",
       "\n",
       "    .dataframe tbody tr th {\n",
       "        vertical-align: top;\n",
       "    }\n",
       "\n",
       "    .dataframe thead th {\n",
       "        text-align: right;\n",
       "    }\n",
       "</style>\n",
       "<table border=\"1\" class=\"dataframe\">\n",
       "  <thead>\n",
       "    <tr style=\"text-align: right;\">\n",
       "      <th></th>\n",
       "      <th>gems_plant_id</th>\n",
       "      <th>latitude</th>\n",
       "      <th>longitude</th>\n",
       "      <th>plant_capacity_mw_fuel_coal</th>\n",
       "    </tr>\n",
       "  </thead>\n",
       "  <tbody>\n",
       "    <tr>\n",
       "      <th>0</th>\n",
       "      <td>1023040</td>\n",
       "      <td>40.1892</td>\n",
       "      <td>111.3596</td>\n",
       "      <td>6720.0</td>\n",
       "    </tr>\n",
       "    <tr>\n",
       "      <th>1</th>\n",
       "      <td>1028551</td>\n",
       "      <td>35.3256</td>\n",
       "      <td>116.9261</td>\n",
       "      <td>4540.0</td>\n",
       "    </tr>\n",
       "    <tr>\n",
       "      <th>2</th>\n",
       "      <td>1010203</td>\n",
       "      <td>32.6842</td>\n",
       "      <td>116.9021</td>\n",
       "      <td>4480.0</td>\n",
       "    </tr>\n",
       "    <tr>\n",
       "      <th>3</th>\n",
       "      <td>1018298</td>\n",
       "      <td>35.1679</td>\n",
       "      <td>112.7162</td>\n",
       "      <td>4400.0</td>\n",
       "    </tr>\n",
       "    <tr>\n",
       "      <th>4</th>\n",
       "      <td>1067575</td>\n",
       "      <td>39.2193</td>\n",
       "      <td>117.9293</td>\n",
       "      <td>4000.0</td>\n",
       "    </tr>\n",
       "    <tr>\n",
       "      <th>5</th>\n",
       "      <td>1051110</td>\n",
       "      <td>25.1995</td>\n",
       "      <td>104.6826</td>\n",
       "      <td>3600.0</td>\n",
       "    </tr>\n",
       "    <tr>\n",
       "      <th>6</th>\n",
       "      <td>1018921</td>\n",
       "      <td>48.5497</td>\n",
       "      <td>119.7739</td>\n",
       "      <td>3400.0</td>\n",
       "    </tr>\n",
       "    <tr>\n",
       "      <th>7</th>\n",
       "      <td>1074887</td>\n",
       "      <td>34.3781</td>\n",
       "      <td>117.1763</td>\n",
       "      <td>3340.0</td>\n",
       "    </tr>\n",
       "    <tr>\n",
       "      <th>8</th>\n",
       "      <td>1073472</td>\n",
       "      <td>31.9890</td>\n",
       "      <td>120.6884</td>\n",
       "      <td>3260.0</td>\n",
       "    </tr>\n",
       "    <tr>\n",
       "      <th>9</th>\n",
       "      <td>1024370</td>\n",
       "      <td>40.6597</td>\n",
       "      <td>114.9439</td>\n",
       "      <td>3000.0</td>\n",
       "    </tr>\n",
       "  </tbody>\n",
       "</table>\n",
       "</div>"
      ],
      "text/plain": [
       "   gems_plant_id  latitude  longitude  plant_capacity_mw_fuel_coal\n",
       "0        1023040   40.1892   111.3596                       6720.0\n",
       "1        1028551   35.3256   116.9261                       4540.0\n",
       "2        1010203   32.6842   116.9021                       4480.0\n",
       "3        1018298   35.1679   112.7162                       4400.0\n",
       "4        1067575   39.2193   117.9293                       4000.0\n",
       "5        1051110   25.1995   104.6826                       3600.0\n",
       "6        1018921   48.5497   119.7739                       3400.0\n",
       "7        1074887   34.3781   117.1763                       3340.0\n",
       "8        1073472   31.9890   120.6884                       3260.0\n",
       "9        1024370   40.6597   114.9439                       3000.0"
      ]
     },
     "execution_count": 38,
     "metadata": {},
     "output_type": "execute_result"
    }
   ],
   "source": [
    "plants_df"
   ]
  },
  {
   "cell_type": "code",
   "execution_count": 39,
   "id": "egyptian-chuck",
   "metadata": {},
   "outputs": [
    {
     "data": {
      "text/plain": [
       "\u001b[0;31mSignature:\u001b[0m \u001b[0mpendulum\u001b[0m\u001b[0;34m.\u001b[0m\u001b[0myesterday\u001b[0m\u001b[0;34m(\u001b[0m\u001b[0mtz\u001b[0m\u001b[0;34m=\u001b[0m\u001b[0;34m'local'\u001b[0m\u001b[0;34m)\u001b[0m\u001b[0;34m\u001b[0m\u001b[0;34m\u001b[0m\u001b[0m\n",
       "\u001b[0;31mDocstring:\u001b[0m Create a DateTime instance for today.\n",
       "\u001b[0;31mFile:\u001b[0m      ~/Library/Caches/pypoetry/virtualenvs/airflow-pipelines-ELMc40Ku-py3.6/lib/python3.6/site-packages/pendulum/__init__.py\n",
       "\u001b[0;31mType:\u001b[0m      function\n"
      ]
     },
     "metadata": {},
     "output_type": "display_data"
    }
   ],
   "source": [
    "pendulum.yesterday()"
   ]
  },
  {
   "cell_type": "code",
   "execution_count": 40,
   "id": "chinese-scholarship",
   "metadata": {},
   "outputs": [],
   "source": [
    "start = pendulum.datetime(2016,1, 1)\n",
    "end = pendulum.yesterday(tz='UTC')\n",
    "period = pendulum.period(start, end)\n",
    "\n",
    "dates = [x.date() for x in period.range(\"days\",amount=35)]\n",
    "starts = dates[:-1]\n",
    "ends = [x.subtract(days=1) for x in dates[1:]]\n",
    "\n",
    "periods = [(str(start),str(end)) for start,end in zip(starts,ends)]"
   ]
  },
  {
   "cell_type": "code",
   "execution_count": 5,
   "id": "smart-archive",
   "metadata": {
    "jupyter": {
     "source_hidden": true
    }
   },
   "outputs": [],
   "source": [
    "# raw data\n",
    "raw_data = {}\n",
    "for row in df.to_dict(orient=\"records\"):\n",
    "    for period in periods:\n",
    "        lat,lon = row['latitude'],row['longitude']\n",
    "        raw_data[((lat,lon),period)] = get_raw_weather_json(lat=lat,lon=lon,start=period[0],end=period[1])"
   ]
  },
  {
   "cell_type": "code",
   "execution_count": 19,
   "id": "designing-compensation",
   "metadata": {
    "jupyter": {
     "source_hidden": true
    }
   },
   "outputs": [],
   "source": [
    "# dump to pickle\n",
    "with open('raw_data.p','wb') as f:\n",
    "    pickle.dump(raw_data,f)"
   ]
  },
  {
   "cell_type": "code",
   "execution_count": 41,
   "id": "heard-bibliography",
   "metadata": {},
   "outputs": [],
   "source": [
    "with open('raw_data.p','rb') as f:\n",
    "    raw_data_ = pickle.load(f)"
   ]
  },
  {
   "cell_type": "code",
   "execution_count": 42,
   "id": "dynamic-maldives",
   "metadata": {},
   "outputs": [],
   "source": [
    "raw_data = raw_data_"
   ]
  },
  {
   "cell_type": "code",
   "execution_count": 43,
   "id": "purple-hotel",
   "metadata": {},
   "outputs": [],
   "source": [
    "dfs = []\n",
    "for k in list(raw_data.keys()):\n",
    "    lat = k[0][0]\n",
    "    lon = k[0][1]\n",
    "    df = process_raw_weather_json(raw_json=raw_data[k],lat=lat,lon=lon)\n",
    "    \n",
    "    df = df.assign(\n",
    "        **{'lat':lat,'lon':lon}\n",
    "    )\n",
    "\n",
    "    dfs.append(df)"
   ]
  },
  {
   "cell_type": "code",
   "execution_count": 45,
   "id": "taken-myrtle",
   "metadata": {},
   "outputs": [],
   "source": [
    "df = pd.concat(dfs)\n",
    "df = pd.merge(df, plants_df, how='left',left_on=['lat','lon'],right_on=['latitude','longitude'])\n",
    "df.to_csv('cleaned_weather_data.csv',index=False)"
   ]
  },
  {
   "cell_type": "code",
   "execution_count": 47,
   "id": "unauthorized-strand",
   "metadata": {},
   "outputs": [
    {
     "data": {
      "text/plain": [
       "104"
      ]
     },
     "execution_count": 47,
     "metadata": {},
     "output_type": "execute_result"
    }
   ],
   "source": [
    "len(periods) * 2"
   ]
  },
  {
   "cell_type": "code",
   "execution_count": null,
   "id": "unlike-register",
   "metadata": {},
   "outputs": [],
   "source": []
  }
 ],
 "metadata": {
  "kernelspec": {
   "display_name": "Python 3",
   "language": "python",
   "name": "python3"
  },
  "language_info": {
   "codemirror_mode": {
    "name": "ipython",
    "version": 3
   },
   "file_extension": ".py",
   "mimetype": "text/x-python",
   "name": "python",
   "nbconvert_exporter": "python",
   "pygments_lexer": "ipython3",
   "version": "3.6.10"
  }
 },
 "nbformat": 4,
 "nbformat_minor": 5
}
